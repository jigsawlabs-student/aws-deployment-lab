{
 "cells": [
  {
   "cell_type": "markdown",
   "metadata": {},
   "source": [
    "# EC2 Deployment Lab"
   ]
  },
  {
   "cell_type": "markdown",
   "metadata": {},
   "source": [
    "### Introduction"
   ]
  },
  {
   "cell_type": "markdown",
   "metadata": {},
   "source": [
    "Now that we've moved through the steps of setting up an EC2 instance step by step, it's a good idea to try to place each of these steps together in a lab.  We'll do so to move our Foursquare Flask API app into the cloud.  Now at this point, we **will not set up our postgres database**, so none of our routes that connect to the database will work.  \n",
    "\n",
    "But our route url will as it just returns text:\n",
    "```python\n",
    "@app.route('/')\n",
    "    def root_url():\n",
    "        return 'Welcome to the foursquare api'\n",
    "```\n",
    "\n",
    "If we can get our Flask API working on a new EC2 instance, we'll be in good shape to connect our database in future lessons."
   ]
  },
  {
   "cell_type": "markdown",
   "metadata": {},
   "source": [
    "## 1. Setting up our EC2 Instance"
   ]
  },
  {
   "cell_type": "markdown",
   "metadata": {},
   "source": [
    "Let's get started by logging into the AWS console and creating a new EC2 instance. \n",
    "\n",
    "#### Choosing the Software and Hardware\n",
    "\n",
    "We begin by selecting the software that we want our application to run on.  Choose the Amazon Machine Image of Amazon Linux 2.\n",
    "\n",
    "The select the hardware resources we wish to use -- `t2.micro`, per usual."
   ]
  },
  {
   "cell_type": "markdown",
   "metadata": {},
   "source": [
    "#### Making our Machine Accessible"
   ]
  },
  {
   "cell_type": "markdown",
   "metadata": {},
   "source": [
    "Next up is to add configuration for allowing us to ssh into our machine, and to make web requests to our application.  Allow for a computer from any ip address to ssh or make http requests.  \n",
    "\n",
    "* The port we should make accessible for making an http request is port 80.\n",
    "* The port we should make accessible for sshing into the machine is 22."
   ]
  },
  {
   "cell_type": "markdown",
   "metadata": {},
   "source": [
    "### Checking our Work"
   ]
  },
  {
   "cell_type": "markdown",
   "metadata": {},
   "source": [
    "We can check that we chose the correct Amazon Machine Image, hardware, properly configured our security groups on the review and launch screen."
   ]
  },
  {
   "cell_type": "markdown",
   "metadata": {},
   "source": [
    "<img src=\"./ec2_review_launch.png\" width=\"100%\">"
   ]
  },
  {
   "cell_type": "markdown",
   "metadata": {},
   "source": [
    "### Adding our pem file"
   ]
  },
  {
   "cell_type": "markdown",
   "metadata": {},
   "source": [
    "Now if we click launch, we'll be taken to the screen to create a new pem file so that we can ssh into our machine.  Create a new pem file called `aws-lab`.  This will trigger a download to download the pem file as `aws-lab.pem`."
   ]
  },
  {
   "cell_type": "markdown",
   "metadata": {},
   "source": [
    "Then click `launch instances` and the machine will begin to launch."
   ]
  },
  {
   "cell_type": "markdown",
   "metadata": {},
   "source": [
    "## 2. Connecting to our Machine"
   ]
  },
  {
   "cell_type": "markdown",
   "metadata": {},
   "source": [
    "Ok, now let's try sshing directly into our machine with the pem file so that we can begin to think about moving over our files and then booting up our flask application."
   ]
  },
  {
   "cell_type": "markdown",
   "metadata": {},
   "source": [
    "> Remember we'll need to properly set the permissions on our `.pem` file."
   ]
  },
  {
   "cell_type": "markdown",
   "metadata": {},
   "source": [
    "If you can ssh into the machine we'll see something like the following."
   ]
  },
  {
   "cell_type": "markdown",
   "metadata": {},
   "source": [
    "<img src=\"./logging_in.png\" width=\"70%\">"
   ]
  },
  {
   "cell_type": "markdown",
   "metadata": {},
   "source": [
    "Now that we are logged in, let's install the requisite software."
   ]
  },
  {
   "cell_type": "markdown",
   "metadata": {},
   "source": [
    "First, we'll need to install software via `yum`.  \n",
    "\n",
    "1. Update yum\n",
    "\n",
    "2. Use yum to install `python3`, `python3-pip`, and `tmux`\n",
    "\n",
    "* ` sudo yum install python3 python3-pip tmux`"
   ]
  },
  {
   "cell_type": "markdown",
   "metadata": {},
   "source": [
    "* Also take note of the absolute path of the current directory on our machine.  After all, we'll need that to secure copy our code into an app folder in there."
   ]
  },
  {
   "cell_type": "markdown",
   "metadata": {},
   "source": [
    "## 3. Moving our Code"
   ]
  },
  {
   "cell_type": "markdown",
   "metadata": {},
   "source": [
    "Now it's time to move our code to our AWS machine's app folder.  Disconnect from the AWS machine, if you haven't already, and use scp to accomplish this.  Remember that the pattern is the following.\n",
    "\n",
    "`scp -r src_folder user@target:path`"
   ]
  },
  {
   "cell_type": "markdown",
   "metadata": {},
   "source": [
    "Then ssh into your machine again and confirm that the code is there.  Then simply try to boot up the flask application.  We can do so through the manage.py file and specify the ip address and port with the following:"
   ]
  },
  {
   "cell_type": "markdown",
   "metadata": {},
   "source": [
    "`sudo python manage.py -h 0.0.0.0 -p 80`"
   ]
  },
  {
   "cell_type": "markdown",
   "metadata": {},
   "source": [
    "> If you get a permission denied error, make sure to run commands with sudo."
   ]
  },
  {
   "cell_type": "markdown",
   "metadata": {},
   "source": [
    "<img src=\"./flask_running.png\" width=\"80%\">"
   ]
  },
  {
   "cell_type": "markdown",
   "metadata": {},
   "source": [
    "Or we can simply run `bash entrypoint.sh`"
   ]
  },
  {
   "cell_type": "markdown",
   "metadata": {},
   "source": [
    "* Adding tmux"
   ]
  },
  {
   "cell_type": "markdown",
   "metadata": {},
   "source": [
    "Now the next step is to use tmux to create a new session, then run our flask application, and then leave the session.  We can create a new tmux session with the command:"
   ]
  },
  {
   "cell_type": "markdown",
   "metadata": {},
   "source": [
    "`tmux new -s flask_lab`"
   ]
  },
  {
   "cell_type": "markdown",
   "metadata": {},
   "source": [
    "Then boot up flask from inside the session, and detach from the session with `ctl+b d`.  We should be able to exit from the terminal, and then visit the ip address where our application is hosted to see the following:"
   ]
  },
  {
   "cell_type": "markdown",
   "metadata": {},
   "source": [
    "<img src=\"./ip_address.png\" width=\"70%\">"
   ]
  },
  {
   "cell_type": "markdown",
   "metadata": {},
   "source": [
    "### Summary"
   ]
  },
  {
   "cell_type": "markdown",
   "metadata": {},
   "source": [
    "In this lesson, we worked through setting up an EC2 machine and booting up our flask application.  These are the steps we performed:\n",
    "\n",
    "1. Build an EC2 instance\n",
    "    * Select an AMI (the software), here linux\n",
    "    * Choose the instance type (the hardware), here t2.micro\n",
    "    * Configure accessing the machine for both HTTP (port 80) and SSH (port 22)\n",
    "    * Download an SSH key as the pem file\n",
    "    \n",
    "2. Installing dependencies on Linux\n",
    "    * Then we ssh into our machine \n",
    "    * And install the requisite software via yum\n",
    "3. Update the Flask Application \n",
    "    * Change the host and port where the application can be reached\n",
    "    * host: `0.0.0.0`\n",
    "    * port: `80`\n",
    "4. Move the code and run the application\n",
    "    * `scp -r src_folder user@target:path`\n",
    "    * `tmux new -s flask_lab`\n",
    "    * `sudo python3 run.py`\n",
    "    * `ctl + b` d"
   ]
  },
  {
   "cell_type": "markdown",
   "metadata": {},
   "source": [
    "### Resources\n",
    "\n",
    "[Flask TDD Github](https://github.com/bnikanjam/flask_tdd_docker)"
   ]
  }
 ],
 "metadata": {
  "kernelspec": {
   "display_name": "Python 3",
   "language": "python",
   "name": "python3"
  },
  "language_info": {
   "codemirror_mode": {
    "name": "ipython",
    "version": 3
   },
   "file_extension": ".py",
   "mimetype": "text/x-python",
   "name": "python",
   "nbconvert_exporter": "python",
   "pygments_lexer": "ipython3",
   "version": "3.9.1"
  }
 },
 "nbformat": 4,
 "nbformat_minor": 4
}
